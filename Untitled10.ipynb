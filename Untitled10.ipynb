{
  "nbformat": 4,
  "nbformat_minor": 0,
  "metadata": {
    "colab": {
      "provenance": [],
      "authorship_tag": "ABX9TyNBdbE3wcAI6E1fpid+vHeL",
      "include_colab_link": true
    },
    "kernelspec": {
      "name": "python3",
      "display_name": "Python 3"
    },
    "language_info": {
      "name": "python"
    }
  },
  "cells": [
    {
      "cell_type": "markdown",
      "metadata": {
        "id": "view-in-github",
        "colab_type": "text"
      },
      "source": [
        "<a href=\"https://colab.research.google.com/github/Cafez1nh/curriculo/blob/main/Untitled10.ipynb\" target=\"_parent\"><img src=\"https://colab.research.google.com/assets/colab-badge.svg\" alt=\"Open In Colab\"/></a>"
      ]
    },
    {
      "cell_type": "code",
      "execution_count": null,
      "metadata": {
        "id": "HZGOZaN64KxU"
      },
      "outputs": [],
      "source": [
        "arq = open(\"registrados.txt\", \"a\")\n",
        "print(\"Olá, aqui você pode adicionar uma nova conta!\")\n",
        "nome_usuario = input(\"Digite o nome de usuário: \")\n",
        "senha = input(\"digite uma senha: \")\n",
        "\n",
        "arq.write(\"{}\\n\".format(nome_usuario ))\n",
        "arq.write(\"{}\\n\".format(senha ))\n",
        "\n",
        "print(\"Cadastro realizado com sucesso!\\n\")\n",
        "arq.close() \n",
        "\n",
        "arq = open(\"registrados.txt\") \n",
        "print(\"Efetue o seu login\")\n",
        "nome_login = input(\"Digite o seu nome de usuario: \")\n",
        "senha_login = input(\"digite a seua senha: \")\n",
        "registrados = arq.readlines()\n",
        "if senha_login + \"\\n\" in registrados:\n",
        "  if    nome_login + \"\\n\" in registrados:\n",
        "      print(\"Bem vindo, {}!\".format(nome_login))\n",
        "else:\n",
        "  print(\"Você deve ter digitado seu nome de usuario ou senha errado, por favor verifique.\")\n",
        "arq.close()"
      ]
    }
  ]
}